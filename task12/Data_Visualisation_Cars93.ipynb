{
 "cells": [
  {
   "cell_type": "markdown",
   "metadata": {
    "id": "VklYRGZC-Kpu"
   },
   "source": [
    "# Visualising car data"
   ]
  },
  {
   "cell_type": "markdown",
   "metadata": {
    "id": "r9Z69_tY-Kp1"
   },
   "source": [
    " You may explore the [metadata for this dataset](https://jse.amstat.org/v1n1/datasets.lock.html) to gain a better understanding of the features. "
   ]
  },
  {
   "cell_type": "code",
   "execution_count": 1,
   "metadata": {
    "id": "Rnc5j8RmojsL"
   },
   "outputs": [],
   "source": [
    "import matplotlib.pyplot as plt\n",
    "import pandas as pd\n",
    "import numpy as np\n",
    "\n",
    "# Inline indicates graphs should be presented as a cell output\n",
    "%matplotlib inline"
   ]
  },
  {
   "cell_type": "code",
   "execution_count": 2,
   "metadata": {
    "id": "tL2cicIy-Kp4"
   },
   "outputs": [],
   "source": [
    "# Load data\n",
    "car_data = pd.read_csv('Cars93.csv', index_col = 0, keep_default_na=False) \n",
    "# Note the additional keep_default_na parameter which is set to False. This ensures\n",
    "# that pandas does not interpret the None string in the AirBags column as NaN."
   ]
  },
  {
   "cell_type": "markdown",
   "metadata": {
    "id": "LWP4eQ2m-Kp5"
   },
   "source": [
    "## Explore the data"
   ]
  },
  {
   "cell_type": "code",
   "execution_count": 3,
   "metadata": {
    "id": "-QNp7dlYojsf",
    "outputId": "138504e6-45de-4a01-81f4-14c23f99e8e2"
   },
   "outputs": [
    {
     "data": {
      "text/plain": [
       "Index(['Manufacturer', 'Model', 'Type', 'Min.Price', 'Price', 'Max.Price',\n",
       "       'MPG.city', 'MPG.highway', 'AirBags', 'DriveTrain', 'Cylinders',\n",
       "       'EngineSize', 'Horsepower', 'RPM', 'Rev.per.mile', 'Man.trans.avail',\n",
       "       'Fuel.tank.capacity', 'Passengers', 'Length', 'Wheelbase', 'Width',\n",
       "       'Turn.circle', 'Rear.seat.room', 'Luggage.room', 'Weight', 'Origin',\n",
       "       'Make'],\n",
       "      dtype='object')"
      ]
     },
     "execution_count": 3,
     "metadata": {},
     "output_type": "execute_result"
    }
   ],
   "source": [
    "# Get column names\n",
    "car_data.columns"
   ]
  },
  {
   "cell_type": "code",
   "execution_count": 4,
   "metadata": {
    "colab": {
     "base_uri": "https://localhost:8080/",
     "height": 182
    },
    "executionInfo": {
     "elapsed": 5,
     "status": "error",
     "timestamp": 1685975563135,
     "user": {
      "displayName": "Micaelan Halse",
      "userId": "01056114083350325147"
     },
     "user_tz": -120
    },
    "id": "c1Wxfedl-Kp8",
    "outputId": "cb63f7d4-6751-4eda-bcd0-b5c545813096"
   },
   "outputs": [
    {
     "data": {
      "text/html": [
       "<div>\n",
       "<style scoped>\n",
       "    .dataframe tbody tr th:only-of-type {\n",
       "        vertical-align: middle;\n",
       "    }\n",
       "\n",
       "    .dataframe tbody tr th {\n",
       "        vertical-align: top;\n",
       "    }\n",
       "\n",
       "    .dataframe thead th {\n",
       "        text-align: right;\n",
       "    }\n",
       "</style>\n",
       "<table border=\"1\" class=\"dataframe\">\n",
       "  <thead>\n",
       "    <tr style=\"text-align: right;\">\n",
       "      <th></th>\n",
       "      <th>Manufacturer</th>\n",
       "      <th>Model</th>\n",
       "      <th>Type</th>\n",
       "      <th>Min.Price</th>\n",
       "      <th>Price</th>\n",
       "      <th>Max.Price</th>\n",
       "      <th>MPG.city</th>\n",
       "      <th>MPG.highway</th>\n",
       "      <th>AirBags</th>\n",
       "      <th>DriveTrain</th>\n",
       "      <th>...</th>\n",
       "      <th>Passengers</th>\n",
       "      <th>Length</th>\n",
       "      <th>Wheelbase</th>\n",
       "      <th>Width</th>\n",
       "      <th>Turn.circle</th>\n",
       "      <th>Rear.seat.room</th>\n",
       "      <th>Luggage.room</th>\n",
       "      <th>Weight</th>\n",
       "      <th>Origin</th>\n",
       "      <th>Make</th>\n",
       "    </tr>\n",
       "  </thead>\n",
       "  <tbody>\n",
       "    <tr>\n",
       "      <th>83</th>\n",
       "      <td>Suzuki</td>\n",
       "      <td>Swift</td>\n",
       "      <td>Small</td>\n",
       "      <td>7.3</td>\n",
       "      <td>8.6</td>\n",
       "      <td>10.0</td>\n",
       "      <td>39</td>\n",
       "      <td>43</td>\n",
       "      <td>None</td>\n",
       "      <td>Front</td>\n",
       "      <td>...</td>\n",
       "      <td>4</td>\n",
       "      <td>161</td>\n",
       "      <td>93</td>\n",
       "      <td>63</td>\n",
       "      <td>34</td>\n",
       "      <td>27.5</td>\n",
       "      <td>10</td>\n",
       "      <td>1965</td>\n",
       "      <td>non-USA</td>\n",
       "      <td>Suzuki Swift</td>\n",
       "    </tr>\n",
       "    <tr>\n",
       "      <th>1</th>\n",
       "      <td>Acura</td>\n",
       "      <td>Integra</td>\n",
       "      <td>Small</td>\n",
       "      <td>12.9</td>\n",
       "      <td>15.9</td>\n",
       "      <td>18.8</td>\n",
       "      <td>25</td>\n",
       "      <td>31</td>\n",
       "      <td>None</td>\n",
       "      <td>Front</td>\n",
       "      <td>...</td>\n",
       "      <td>5</td>\n",
       "      <td>177</td>\n",
       "      <td>102</td>\n",
       "      <td>68</td>\n",
       "      <td>37</td>\n",
       "      <td>26.5</td>\n",
       "      <td>11</td>\n",
       "      <td>2705</td>\n",
       "      <td>non-USA</td>\n",
       "      <td>Acura Integra</td>\n",
       "    </tr>\n",
       "    <tr>\n",
       "      <th>41</th>\n",
       "      <td>Honda</td>\n",
       "      <td>Prelude</td>\n",
       "      <td>Sporty</td>\n",
       "      <td>17.0</td>\n",
       "      <td>19.8</td>\n",
       "      <td>22.7</td>\n",
       "      <td>24</td>\n",
       "      <td>31</td>\n",
       "      <td>Driver &amp; Passenger</td>\n",
       "      <td>Front</td>\n",
       "      <td>...</td>\n",
       "      <td>4</td>\n",
       "      <td>175</td>\n",
       "      <td>100</td>\n",
       "      <td>70</td>\n",
       "      <td>39</td>\n",
       "      <td>23.5</td>\n",
       "      <td>8</td>\n",
       "      <td>2865</td>\n",
       "      <td>non-USA</td>\n",
       "      <td>Honda Prelude</td>\n",
       "    </tr>\n",
       "    <tr>\n",
       "      <th>13</th>\n",
       "      <td>Chevrolet</td>\n",
       "      <td>Corsica</td>\n",
       "      <td>Compact</td>\n",
       "      <td>11.4</td>\n",
       "      <td>11.4</td>\n",
       "      <td>11.4</td>\n",
       "      <td>25</td>\n",
       "      <td>34</td>\n",
       "      <td>Driver only</td>\n",
       "      <td>Front</td>\n",
       "      <td>...</td>\n",
       "      <td>5</td>\n",
       "      <td>184</td>\n",
       "      <td>103</td>\n",
       "      <td>68</td>\n",
       "      <td>39</td>\n",
       "      <td>26</td>\n",
       "      <td>14</td>\n",
       "      <td>2785</td>\n",
       "      <td>USA</td>\n",
       "      <td>Chevrolet Corsica</td>\n",
       "    </tr>\n",
       "    <tr>\n",
       "      <th>29</th>\n",
       "      <td>Eagle</td>\n",
       "      <td>Summit</td>\n",
       "      <td>Small</td>\n",
       "      <td>7.9</td>\n",
       "      <td>12.2</td>\n",
       "      <td>16.5</td>\n",
       "      <td>29</td>\n",
       "      <td>33</td>\n",
       "      <td>None</td>\n",
       "      <td>Front</td>\n",
       "      <td>...</td>\n",
       "      <td>5</td>\n",
       "      <td>174</td>\n",
       "      <td>98</td>\n",
       "      <td>66</td>\n",
       "      <td>36</td>\n",
       "      <td>26.5</td>\n",
       "      <td>11</td>\n",
       "      <td>2295</td>\n",
       "      <td>USA</td>\n",
       "      <td>Eagle Summit</td>\n",
       "    </tr>\n",
       "  </tbody>\n",
       "</table>\n",
       "<p>5 rows × 27 columns</p>\n",
       "</div>"
      ],
      "text/plain": [
       "   Manufacturer    Model     Type  Min.Price  Price  Max.Price  MPG.city  \\\n",
       "83       Suzuki    Swift    Small        7.3    8.6       10.0        39   \n",
       "1         Acura  Integra    Small       12.9   15.9       18.8        25   \n",
       "41        Honda  Prelude   Sporty       17.0   19.8       22.7        24   \n",
       "13    Chevrolet  Corsica  Compact       11.4   11.4       11.4        25   \n",
       "29        Eagle   Summit    Small        7.9   12.2       16.5        29   \n",
       "\n",
       "    MPG.highway             AirBags DriveTrain  ... Passengers  Length  \\\n",
       "83           43                None      Front  ...          4     161   \n",
       "1            31                None      Front  ...          5     177   \n",
       "41           31  Driver & Passenger      Front  ...          4     175   \n",
       "13           34         Driver only      Front  ...          5     184   \n",
       "29           33                None      Front  ...          5     174   \n",
       "\n",
       "    Wheelbase  Width  Turn.circle Rear.seat.room  Luggage.room  Weight  \\\n",
       "83         93     63           34           27.5            10    1965   \n",
       "1         102     68           37           26.5            11    2705   \n",
       "41        100     70           39           23.5             8    2865   \n",
       "13        103     68           39             26            14    2785   \n",
       "29         98     66           36           26.5            11    2295   \n",
       "\n",
       "     Origin               Make  \n",
       "83  non-USA       Suzuki Swift  \n",
       "1   non-USA      Acura Integra  \n",
       "41  non-USA      Honda Prelude  \n",
       "13      USA  Chevrolet Corsica  \n",
       "29      USA       Eagle Summit  \n",
       "\n",
       "[5 rows x 27 columns]"
      ]
     },
     "execution_count": 4,
     "metadata": {},
     "output_type": "execute_result"
    }
   ],
   "source": [
    "# Get a random sample of data\n",
    "car_data.sample(5)"
   ]
  },
  {
   "cell_type": "code",
   "execution_count": 5,
   "metadata": {
    "id": "WjaCswre-Kp8",
    "outputId": "94006385-abd9-4e73-f9db-986c135b6b83"
   },
   "outputs": [
    {
     "data": {
      "text/plain": [
       "(93, 27)"
      ]
     },
     "execution_count": 5,
     "metadata": {},
     "output_type": "execute_result"
    }
   ],
   "source": [
    "# Get numbers of row and column\n",
    "car_data.shape"
   ]
  },
  {
   "cell_type": "code",
   "execution_count": 6,
   "metadata": {
    "id": "kbV7Vibgojsx",
    "outputId": "eabea5ff-07e3-422e-ac77-f1d09049bebf"
   },
   "outputs": [
    {
     "data": {
      "text/plain": [
       "array(['Acura', 'Audi', 'BMW', 'Buick', 'Cadillac', 'Chevrolet',\n",
       "       'Chrylser', 'Chrysler', 'Dodge', 'Eagle', 'Ford', 'Geo', 'Honda',\n",
       "       'Hyundai', 'Infiniti', 'Lexus', 'Lincoln', 'Mazda',\n",
       "       'Mercedes-Benz', 'Mercury', 'Mitsubishi', 'Nissan', 'Oldsmobile',\n",
       "       'Plymouth', 'Pontiac', 'Saab', 'Saturn', 'Subaru', 'Suzuki',\n",
       "       'Toyota', 'Volkswagen', 'Volvo'], dtype=object)"
      ]
     },
     "execution_count": 6,
     "metadata": {},
     "output_type": "execute_result"
    }
   ],
   "source": [
    "# Get list of unique manufacturers\n",
    "car_data['Manufacturer'].unique()"
   ]
  },
  {
   "cell_type": "code",
   "execution_count": 7,
   "metadata": {
    "id": "KpPmgwqI-Kp-",
    "outputId": "c6074bc2-33b3-482c-a482-7d03c27c3fb2"
   },
   "outputs": [
    {
     "data": {
      "text/plain": [
       "32"
      ]
     },
     "execution_count": 7,
     "metadata": {},
     "output_type": "execute_result"
    }
   ],
   "source": [
    "# Get the number of unique manufacturers\n",
    "car_data['Manufacturer'].nunique()"
   ]
  },
  {
   "cell_type": "markdown",
   "metadata": {
    "id": "C5Jp1Sg5-Kp_"
   },
   "source": [
    "## Scatterplot examples"
   ]
  },
  {
   "cell_type": "markdown",
   "metadata": {
    "id": "wGqZcf6R-Kp_"
   },
   "source": [
    "For simple plots you can either use the pandas `.plot()` method (which uses matplotlib as the default in its backend) or matplotlib. Below are examples of creating a scatterplot with both options."
   ]
  },
  {
   "cell_type": "markdown",
   "metadata": {
    "id": "IMb-Jpzh-KqA"
   },
   "source": [
    "### pandas .plot() method"
   ]
  },
  {
   "cell_type": "code",
   "execution_count": 8,
   "metadata": {
    "id": "rrJTeR51-KqB"
   },
   "outputs": [],
   "source": [
    "# Select features for scatterplot\n",
    "scatter_features = pd.DataFrame({'Horsepower': car_data['Horsepower'], \n",
    "                                'Price': car_data['Price']})"
   ]
  },
  {
   "cell_type": "code",
   "execution_count": null,
   "metadata": {
    "id": "qYbBFDVF-KqC",
    "outputId": "a2c1c4ac-3e45-456b-e056-dc0afdecdf84"
   },
   "outputs": [
    {
     "data": {
      "text/plain": [
       "<Axes: title={'center': 'Horsepower vs Price'}, xlabel='Horsepower (max)', ylabel='Average price of model'>"
      ]
     },
     "execution_count": 83,
     "metadata": {},
     "output_type": "execute_result"
    },
    {
     "data": {
      "image/png": "[encoded data removed]",
      "text/plain": [
       "<Figure size 640x480 with 1 Axes>"
      ]
     },
     "metadata": {},
     "output_type": "display_data"
    }
   ],
   "source": [
    "# Plot a bar chart showing the number of models in each airbag category\n",
    "scatter_features.plot.scatter(x='Horsepower', y='Price', \n",
    "                              legend=False, title=\"Horsepower vs Price\",\n",
    "                              ylabel=\"Average price of model\", xlabel=\"Horsepower (max)\",\n",
    "                              color='green')"
   ]
  },
  {
   "cell_type": "markdown",
   "metadata": {
    "id": "7DYUZfSp-KqC"
   },
   "source": [
    "### matplotlib method"
   ]
  },
  {
   "cell_type": "code",
   "execution_count": null,
   "metadata": {
    "id": "ZfjVxERR-KqD",
    "outputId": "41a357cd-a1e7-47ac-8c57-9ed693b1506c"
   },
   "outputs": [
    {
     "data": {
      "image/png": "[encoded data removed]",
      "text/plain": [
       "<Figure size 640x480 with 1 Axes>"
      ]
     },
     "metadata": {},
     "output_type": "display_data"
    }
   ],
   "source": [
    "# Select rows from the dataframe for plotting \n",
    "x = car_data['Horsepower'].values\n",
    "y = car_data['Price'].values\n",
    "\n",
    "# Create scatterplot\n",
    "plt.scatter(x,y,color = 'g')\n",
    "plt.title('Horsepower vs Price')\n",
    "plt.xlabel('Horsepower (max)')\n",
    "plt.ylabel('Average Price of model')\n",
    "plt.show()"
   ]
  },
  {
   "cell_type": "markdown",
   "metadata": {
    "id": "oyEdE6YAojs4"
   },
   "source": [
    "## Groupby mean: barchart\n",
    "\n",
    "Group-by can be used to build groups of rows based on a specific feature in your dataset, e.g. the ‘Type’ categorical column. "
   ]
  },
  {
   "cell_type": "code",
   "execution_count": 12,
   "metadata": {
    "id": "QTbA4g-r-KqF",
    "outputId": "c4fc35e1-0eec-496d-ade8-96070a03efdc"
   },
   "outputs": [
    {
     "data": {
      "text/html": [
       "<div>\n",
       "<style scoped>\n",
       "    .dataframe tbody tr th:only-of-type {\n",
       "        vertical-align: middle;\n",
       "    }\n",
       "\n",
       "    .dataframe tbody tr th {\n",
       "        vertical-align: top;\n",
       "    }\n",
       "\n",
       "    .dataframe thead th {\n",
       "        text-align: right;\n",
       "    }\n",
       "</style>\n",
       "<table border=\"1\" class=\"dataframe\">\n",
       "  <thead>\n",
       "    <tr style=\"text-align: right;\">\n",
       "      <th></th>\n",
       "      <th>Min.Price</th>\n",
       "      <th>Price</th>\n",
       "      <th>Max.Price</th>\n",
       "      <th>MPG.city</th>\n",
       "      <th>MPG.highway</th>\n",
       "      <th>EngineSize</th>\n",
       "      <th>Horsepower</th>\n",
       "      <th>RPM</th>\n",
       "      <th>Rev.per.mile</th>\n",
       "      <th>Fuel.tank.capacity</th>\n",
       "      <th>Passengers</th>\n",
       "      <th>Length</th>\n",
       "      <th>Wheelbase</th>\n",
       "      <th>Width</th>\n",
       "      <th>Turn.circle</th>\n",
       "      <th>Weight</th>\n",
       "    </tr>\n",
       "    <tr>\n",
       "      <th>Type</th>\n",
       "      <th></th>\n",
       "      <th></th>\n",
       "      <th></th>\n",
       "      <th></th>\n",
       "      <th></th>\n",
       "      <th></th>\n",
       "      <th></th>\n",
       "      <th></th>\n",
       "      <th></th>\n",
       "      <th></th>\n",
       "      <th></th>\n",
       "      <th></th>\n",
       "      <th></th>\n",
       "      <th></th>\n",
       "      <th></th>\n",
       "      <th></th>\n",
       "    </tr>\n",
       "  </thead>\n",
       "  <tbody>\n",
       "    <tr>\n",
       "      <th>Van</th>\n",
       "      <td>16.0</td>\n",
       "      <td>19.0</td>\n",
       "      <td>22.0</td>\n",
       "      <td>17.0</td>\n",
       "      <td>22.0</td>\n",
       "      <td>3.0</td>\n",
       "      <td>149.0</td>\n",
       "      <td>4744.0</td>\n",
       "      <td>2106.0</td>\n",
       "      <td>21.0</td>\n",
       "      <td>7.0</td>\n",
       "      <td>186.0</td>\n",
       "      <td>112.0</td>\n",
       "      <td>73.0</td>\n",
       "      <td>42.0</td>\n",
       "      <td>3831.0</td>\n",
       "    </tr>\n",
       "    <tr>\n",
       "      <th>Midsize</th>\n",
       "      <td>24.0</td>\n",
       "      <td>27.0</td>\n",
       "      <td>30.0</td>\n",
       "      <td>20.0</td>\n",
       "      <td>27.0</td>\n",
       "      <td>3.0</td>\n",
       "      <td>173.0</td>\n",
       "      <td>5336.0</td>\n",
       "      <td>2221.0</td>\n",
       "      <td>18.0</td>\n",
       "      <td>5.0</td>\n",
       "      <td>193.0</td>\n",
       "      <td>107.0</td>\n",
       "      <td>71.0</td>\n",
       "      <td>40.0</td>\n",
       "      <td>3400.0</td>\n",
       "    </tr>\n",
       "    <tr>\n",
       "      <th>Large</th>\n",
       "      <td>23.0</td>\n",
       "      <td>24.0</td>\n",
       "      <td>26.0</td>\n",
       "      <td>18.0</td>\n",
       "      <td>27.0</td>\n",
       "      <td>4.0</td>\n",
       "      <td>179.0</td>\n",
       "      <td>4673.0</td>\n",
       "      <td>1627.0</td>\n",
       "      <td>19.0</td>\n",
       "      <td>6.0</td>\n",
       "      <td>205.0</td>\n",
       "      <td>113.0</td>\n",
       "      <td>75.0</td>\n",
       "      <td>43.0</td>\n",
       "      <td>3695.0</td>\n",
       "    </tr>\n",
       "    <tr>\n",
       "      <th>Sporty</th>\n",
       "      <td>17.0</td>\n",
       "      <td>19.0</td>\n",
       "      <td>22.0</td>\n",
       "      <td>22.0</td>\n",
       "      <td>29.0</td>\n",
       "      <td>2.0</td>\n",
       "      <td>160.0</td>\n",
       "      <td>5393.0</td>\n",
       "      <td>2314.0</td>\n",
       "      <td>16.0</td>\n",
       "      <td>4.0</td>\n",
       "      <td>175.0</td>\n",
       "      <td>98.0</td>\n",
       "      <td>69.0</td>\n",
       "      <td>39.0</td>\n",
       "      <td>2900.0</td>\n",
       "    </tr>\n",
       "    <tr>\n",
       "      <th>Compact</th>\n",
       "      <td>16.0</td>\n",
       "      <td>18.0</td>\n",
       "      <td>21.0</td>\n",
       "      <td>23.0</td>\n",
       "      <td>30.0</td>\n",
       "      <td>2.0</td>\n",
       "      <td>131.0</td>\n",
       "      <td>5362.0</td>\n",
       "      <td>2476.0</td>\n",
       "      <td>16.0</td>\n",
       "      <td>5.0</td>\n",
       "      <td>182.0</td>\n",
       "      <td>103.0</td>\n",
       "      <td>67.0</td>\n",
       "      <td>38.0</td>\n",
       "      <td>2918.0</td>\n",
       "    </tr>\n",
       "  </tbody>\n",
       "</table>\n",
       "</div>"
      ],
      "text/plain": [
       "         Min.Price  Price  Max.Price  MPG.city  MPG.highway  EngineSize  \\\n",
       "Type                                                                      \n",
       "Van           16.0   19.0       22.0      17.0         22.0         3.0   \n",
       "Midsize       24.0   27.0       30.0      20.0         27.0         3.0   \n",
       "Large         23.0   24.0       26.0      18.0         27.0         4.0   \n",
       "Sporty        17.0   19.0       22.0      22.0         29.0         2.0   \n",
       "Compact       16.0   18.0       21.0      23.0         30.0         2.0   \n",
       "\n",
       "         Horsepower     RPM  Rev.per.mile  Fuel.tank.capacity  Passengers  \\\n",
       "Type                                                                        \n",
       "Van           149.0  4744.0        2106.0                21.0         7.0   \n",
       "Midsize       173.0  5336.0        2221.0                18.0         5.0   \n",
       "Large         179.0  4673.0        1627.0                19.0         6.0   \n",
       "Sporty        160.0  5393.0        2314.0                16.0         4.0   \n",
       "Compact       131.0  5362.0        2476.0                16.0         5.0   \n",
       "\n",
       "         Length  Wheelbase  Width  Turn.circle  Weight  \n",
       "Type                                                    \n",
       "Van       186.0      112.0   73.0         42.0  3831.0  \n",
       "Midsize   193.0      107.0   71.0         40.0  3400.0  \n",
       "Large     205.0      113.0   75.0         43.0  3695.0  \n",
       "Sporty    175.0       98.0   69.0         39.0  2900.0  \n",
       "Compact   182.0      103.0   67.0         38.0  2918.0  "
      ]
     },
     "execution_count": 12,
     "metadata": {},
     "output_type": "execute_result"
    }
   ],
   "source": [
    "# Group data by'Type'\n",
    "group_by_type = car_data.groupby(by=['Type'])\n",
    "\n",
    "# Get the mean (average) for each type across all columns\n",
    "# Note the mean can only be calculated for numeric values\n",
    "car_data_avg = round(group_by_type.mean(numeric_only=True), 0) \n",
    "car_data_avg.sample(5)"
   ]
  },
  {
   "cell_type": "code",
   "execution_count": null,
   "metadata": {},
   "outputs": [],
   "source": []
  },
  {
   "cell_type": "code",
   "execution_count": 22,
   "metadata": {
    "id": "nN4zsLcZ-KqF"
   },
   "outputs": [],
   "source": [
    "# Create a DataFrame of only the relevant features to plot  \n",
    "features_to_plot = pd.DataFrame({'MPG.highway': car_data_avg['MPG.highway'],\n",
    "                                 'MPG.city': car_data_avg['MPG.city']})"
   ]
  },
  {
   "cell_type": "code",
   "execution_count": 23,
   "metadata": {
    "id": "UByN-rKb-KqG",
    "outputId": "e40af49a-2d69-4716-a74d-59b9cf8daa49"
   },
   "outputs": [
    {
     "data": {
      "text/plain": [
       "<Axes: xlabel='Type', ylabel='Average MPG'>"
      ]
     },
     "execution_count": 23,
     "metadata": {},
     "output_type": "execute_result"
    },
    {
     "data": {
      "image/png": "[encoded data removed]",
      "text/plain": [
       "<Figure size 640x480 with 1 Axes>"
      ]
     },
     "metadata": {},
     "output_type": "display_data"
    }
   ],
   "source": [
    "# Plot the average miles per gallon (MPG) for highway \n",
    "# driving and city driving for each type of car\n",
    "features_to_plot.plot(kind='bar', ylabel=\"Average MPG\")"
   ]
  },
  {
   "cell_type": "markdown",
   "metadata": {},
   "source": [
    "###### Insight:\n",
    "\n",
    "Cars move more miles per gallon on an highway than in the city, possibly due to the nature of traffic and the respective speed limits of the road types."
   ]
  },
  {
   "cell_type": "markdown",
   "metadata": {
    "id": "PeZQNlH6-KqH"
   },
   "source": [
    "## Groupby count: barchart"
   ]
  },
  {
   "cell_type": "code",
   "execution_count": 24,
   "metadata": {
    "id": "X8z_YeI3-KqH",
    "outputId": "613e307f-c257-41ee-d308-82f348d72cd3"
   },
   "outputs": [
    {
     "data": {
      "text/plain": [
       "array(['None', 'Driver & Passenger', 'Driver only'], dtype=object)"
      ]
     },
     "execution_count": 24,
     "metadata": {},
     "output_type": "execute_result"
    }
   ],
   "source": [
    "car_data['AirBags'].unique()"
   ]
  },
  {
   "cell_type": "code",
   "execution_count": 25,
   "metadata": {
    "id": "fOJ_O24xojtW",
    "outputId": "f9d48444-619a-4431-fa23-2e89fc095fc9"
   },
   "outputs": [
    {
     "data": {
      "text/html": [
       "<div>\n",
       "<style scoped>\n",
       "    .dataframe tbody tr th:only-of-type {\n",
       "        vertical-align: middle;\n",
       "    }\n",
       "\n",
       "    .dataframe tbody tr th {\n",
       "        vertical-align: top;\n",
       "    }\n",
       "\n",
       "    .dataframe thead th {\n",
       "        text-align: right;\n",
       "    }\n",
       "</style>\n",
       "<table border=\"1\" class=\"dataframe\">\n",
       "  <thead>\n",
       "    <tr style=\"text-align: right;\">\n",
       "      <th></th>\n",
       "      <th>Manufacturer</th>\n",
       "      <th>Model</th>\n",
       "      <th>Type</th>\n",
       "      <th>Min.Price</th>\n",
       "      <th>Price</th>\n",
       "      <th>Max.Price</th>\n",
       "      <th>MPG.city</th>\n",
       "      <th>MPG.highway</th>\n",
       "      <th>DriveTrain</th>\n",
       "      <th>Cylinders</th>\n",
       "      <th>...</th>\n",
       "      <th>Passengers</th>\n",
       "      <th>Length</th>\n",
       "      <th>Wheelbase</th>\n",
       "      <th>Width</th>\n",
       "      <th>Turn.circle</th>\n",
       "      <th>Rear.seat.room</th>\n",
       "      <th>Luggage.room</th>\n",
       "      <th>Weight</th>\n",
       "      <th>Origin</th>\n",
       "      <th>Make</th>\n",
       "    </tr>\n",
       "    <tr>\n",
       "      <th>AirBags</th>\n",
       "      <th></th>\n",
       "      <th></th>\n",
       "      <th></th>\n",
       "      <th></th>\n",
       "      <th></th>\n",
       "      <th></th>\n",
       "      <th></th>\n",
       "      <th></th>\n",
       "      <th></th>\n",
       "      <th></th>\n",
       "      <th></th>\n",
       "      <th></th>\n",
       "      <th></th>\n",
       "      <th></th>\n",
       "      <th></th>\n",
       "      <th></th>\n",
       "      <th></th>\n",
       "      <th></th>\n",
       "      <th></th>\n",
       "      <th></th>\n",
       "      <th></th>\n",
       "    </tr>\n",
       "  </thead>\n",
       "  <tbody>\n",
       "    <tr>\n",
       "      <th>Driver &amp; Passenger</th>\n",
       "      <td>16</td>\n",
       "      <td>16</td>\n",
       "      <td>16</td>\n",
       "      <td>16</td>\n",
       "      <td>16</td>\n",
       "      <td>16</td>\n",
       "      <td>16</td>\n",
       "      <td>16</td>\n",
       "      <td>16</td>\n",
       "      <td>16</td>\n",
       "      <td>...</td>\n",
       "      <td>16</td>\n",
       "      <td>16</td>\n",
       "      <td>16</td>\n",
       "      <td>16</td>\n",
       "      <td>16</td>\n",
       "      <td>16</td>\n",
       "      <td>16</td>\n",
       "      <td>16</td>\n",
       "      <td>16</td>\n",
       "      <td>16</td>\n",
       "    </tr>\n",
       "    <tr>\n",
       "      <th>Driver only</th>\n",
       "      <td>43</td>\n",
       "      <td>43</td>\n",
       "      <td>43</td>\n",
       "      <td>43</td>\n",
       "      <td>43</td>\n",
       "      <td>43</td>\n",
       "      <td>43</td>\n",
       "      <td>43</td>\n",
       "      <td>43</td>\n",
       "      <td>43</td>\n",
       "      <td>...</td>\n",
       "      <td>43</td>\n",
       "      <td>43</td>\n",
       "      <td>43</td>\n",
       "      <td>43</td>\n",
       "      <td>43</td>\n",
       "      <td>43</td>\n",
       "      <td>43</td>\n",
       "      <td>43</td>\n",
       "      <td>43</td>\n",
       "      <td>43</td>\n",
       "    </tr>\n",
       "    <tr>\n",
       "      <th>None</th>\n",
       "      <td>34</td>\n",
       "      <td>34</td>\n",
       "      <td>34</td>\n",
       "      <td>34</td>\n",
       "      <td>34</td>\n",
       "      <td>34</td>\n",
       "      <td>34</td>\n",
       "      <td>34</td>\n",
       "      <td>34</td>\n",
       "      <td>34</td>\n",
       "      <td>...</td>\n",
       "      <td>34</td>\n",
       "      <td>34</td>\n",
       "      <td>34</td>\n",
       "      <td>34</td>\n",
       "      <td>34</td>\n",
       "      <td>34</td>\n",
       "      <td>34</td>\n",
       "      <td>34</td>\n",
       "      <td>34</td>\n",
       "      <td>34</td>\n",
       "    </tr>\n",
       "  </tbody>\n",
       "</table>\n",
       "<p>3 rows × 26 columns</p>\n",
       "</div>"
      ],
      "text/plain": [
       "                    Manufacturer  Model  Type  Min.Price  Price  Max.Price  \\\n",
       "AirBags                                                                      \n",
       "Driver & Passenger            16     16    16         16     16         16   \n",
       "Driver only                   43     43    43         43     43         43   \n",
       "None                          34     34    34         34     34         34   \n",
       "\n",
       "                    MPG.city  MPG.highway  DriveTrain  Cylinders  ...  \\\n",
       "AirBags                                                           ...   \n",
       "Driver & Passenger        16           16          16         16  ...   \n",
       "Driver only               43           43          43         43  ...   \n",
       "None                      34           34          34         34  ...   \n",
       "\n",
       "                    Passengers  Length  Wheelbase  Width  Turn.circle  \\\n",
       "AirBags                                                                 \n",
       "Driver & Passenger          16      16         16     16           16   \n",
       "Driver only                 43      43         43     43           43   \n",
       "None                        34      34         34     34           34   \n",
       "\n",
       "                    Rear.seat.room  Luggage.room  Weight  Origin  Make  \n",
       "AirBags                                                                 \n",
       "Driver & Passenger              16            16      16      16    16  \n",
       "Driver only                     43            43      43      43    43  \n",
       "None                            34            34      34      34    34  \n",
       "\n",
       "[3 rows x 26 columns]"
      ]
     },
     "execution_count": 25,
     "metadata": {},
     "output_type": "execute_result"
    }
   ],
   "source": [
    "# Group by 'Airbags' and count models in each airbag category\n",
    "car_AirBagscount = car_data.groupby('AirBags').count()\n",
    "\n",
    "# View grouped data\n",
    "car_AirBagscount"
   ]
  },
  {
   "cell_type": "code",
   "execution_count": 26,
   "metadata": {
    "id": "ZnW1kUjs-KqI"
   },
   "outputs": [],
   "source": [
    "# Create a DataFrame with the first column and all rows\n",
    "car_AirBagscount = pd.DataFrame(car_AirBagscount.iloc[:, 0])\n",
    "\n",
    "# Rename the first column to 'Count'\n",
    "car_AirBagscount.rename(columns={'Manufacturer': 'Count'}, inplace=True)"
   ]
  },
  {
   "cell_type": "code",
   "execution_count": null,
   "metadata": {
    "id": "9_Qnlr2V-KqI",
    "outputId": "8a4af4f7-0c88-4dc4-b836-3c5f4915236a"
   },
   "outputs": [
    {
     "data": {
      "text/plain": [
       "<Axes: title={'center': 'Airbag Count'}, xlabel='Airbag categories', ylabel='Number of Models'>"
      ]
     },
     "execution_count": 91,
     "metadata": {},
     "output_type": "execute_result"
    },
    {
     "data": {
      "image/png": "[encoded data removed]",
      "text/plain": [
       "<Figure size 300x300 with 1 Axes>"
      ]
     },
     "metadata": {},
     "output_type": "display_data"
    }
   ],
   "source": [
    "# Plot a bar chart showing the number of models in each airbag category\n",
    "car_AirBagscount.plot.bar(figsize=(3, 3), legend=False, title=\"Airbag Count\", \n",
    "                          ylabel=\"Number of Models\", xlabel=\"Airbag categories\",\n",
    "                          color='purple')"
   ]
  }
 ],
 "metadata": {
  "colab": {
   "provenance": []
  },
  "kernelspec": {
   "display_name": "Python 3 (ipykernel)",
   "language": "python",
   "name": "python3"
  },
  "language_info": {
   "codemirror_mode": {
    "name": "ipython",
    "version": 3
   },
   "file_extension": ".py",
   "mimetype": "text/x-python",
   "name": "python",
   "nbconvert_exporter": "python",
   "pygments_lexer": "ipython3",
   "version": "3.11.5"
  }
 },
 "nbformat": 4,
 "nbformat_minor": 1
}
