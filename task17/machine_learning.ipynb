{
 "cells": [
  {
   "cell_type": "markdown",
   "metadata": {
    "id": "IBb6nSAY5T4I"
   },
   "source": [
    "# Machine Learning"
   ]
  },
  {
   "cell_type": "markdown",
   "metadata": {
    "id": "N02Qu9_f1N45"
   },
   "source": [
    "1. For each of the following examples describe at least one possible input and\n",
    "output. Justify your answers:  \n",
    "* 1.1 A self-driving car\n",
    "* 1.2 Netflix recommendation system\n",
    "* 1.3 Signature recognition\n",
    "* 1.4 Medical diagnosis\n"
   ]
  },
  {
   "cell_type": "markdown",
   "metadata": {
    "id": "-8aBqprP3ypo"
   },
   "source": [
    "1. Answer here\n",
    "\n",
    "|      | Input(s)    | Output     |\n",
    "| ---- | ----------- | ---------  |\n",
    "| 1.1  | surrounding image, geo-location | direction signal |\n",
    "| 1.2  | recent watch history, trending | movie title |\n",
    "| 1.3  | text | signature image |\n",
    "| 1.4  | age, body mass index, resting blood pressure, sex, test results | health status |\n",
    "\n",
    "**Justification:**\n",
    "* A self driving car needs information about its surrounding to make decisions, this can come from sensors, also, a self driving car need information about its geolocation to Know how to plan its travels, and identify its currents state and position. These inputs amongst others will allow the vehicle make decisions and what signal to send to other componenets of the car, like the indicators and wheel.\n",
    "* Netflix recommender system need information on your recent watch history, this couple with trending movies will allow netfkix to give you about trending movie titles that might interest you.\n",
    "* A signature recommender will require atleast a text like name of anything to recommend you with a good signature. Depending on how the model works the model can return an image.\n",
    "* Medical diagnosis will require some medical statistics like BMI, resting BP, age, sex and possibly some test results to give a diagnosis, which might be on cadiovascular diseases or other forms of medical cases."
   ]
  },
  {
   "cell_type": "markdown",
   "metadata": {
    "id": "l_I2f4C85yNF"
   },
   "source": [
    "\n",
    "2. For each of the following case studies, determine whether it is appropriate to utilise regression or classification machine learning algorithms. Justify your answers:\n",
    "* 2.1 Classifying emails as promotion or social based on their content and metadata.\n",
    "* 2.2 Forecasting the stock price of a company based on historical data and market trends.\n",
    "* 2.3 Sorting images of animals into different species based on their visual features.\n",
    "* 2.4 Predicting the likelihood of a patient having a particular disease based on medical history and diagnostic test results."
   ]
  },
  {
   "cell_type": "markdown",
   "metadata": {
    "id": "WgMUsqQr6qFU"
   },
   "source": [
    "2. Answer here\n",
    "* 2.1 Classification algorithms (categirical dependent variable)\n",
    "* 2.2 Regression algorithms (continuous dependent variable)\n",
    "* 2.3 Classification algorithms (categorical dependent variable)\n",
    "* 2.4 Classification algorithms (we are calculating likelihood, which will result in a group of possible range of outcomes)"
   ]
  },
  {
   "cell_type": "markdown",
   "metadata": {
    "id": "b6f8UETG64hH"
   },
   "source": [
    "3. For each of the following real-world problems, determine whether it is appropriate to utilise a supervised or unsupervised machine learning algorithm. Justify your answers:\n",
    "* 3.1 Detecting anomalies in a manufacturing process using sensor data without prior knowledge of specific anomaly patterns.\n",
    "* 3.2 Predicting customer lifetime value based on historical transaction data and customer demographics.\n",
    "* 3.3 Segmenting customer demographics based on their purchase history, browsing behaviour, and preferences.\n",
    "* 3.4 Analysing social media posts to categorise them into different themes.\n"
   ]
  },
  {
   "cell_type": "markdown",
   "metadata": {
    "id": "W6dTYBvd675O"
   },
   "source": [
    "3. Answer here\n",
    "* 3.1 Unsupervised ML algorithm\n",
    "* 3.2 Supervised ML algorithm\n",
    "* 3.3 Unsupervised ML algorithm\n",
    "* 3.4 Unsupervised ML algorithm"
   ]
  },
  {
   "cell_type": "markdown",
   "metadata": {
    "id": "bqsun96o64xe"
   },
   "source": [
    "4.\n",
    "For each of the following real-world problems, determine whether it is appropriate to utilise semi-supervised machine learning algorithms. Justify your answers:\n",
    "* 4.1 Predicting fraudulent financial transactions using a dataset where most transactions are labelled as fraudulent or legitimate.\n",
    "* 4.2 Analysing customer satisfaction surveys where only a small portion of the data is labelled with satisfaction ratings.\n",
    "* 4.3 Identifying spam emails in a dataset where the majority of emails are labelled.\n",
    "* 4.4 Predicting the probability of default for credit card applicants based on their complete financial and credit-related information.\n"
   ]
  },
  {
   "cell_type": "markdown",
   "metadata": {
    "id": "aTWugZ6q68GF"
   },
   "source": [
    "4. Answer here\n",
    "* 4.1 Not appropriate. We already have labelled dataset we can learn from and improve on later through continuous learning.\n",
    "* 4.2 Appropriate. Since we will be expecting a specific outcome and not a class or category. We can train with the current labels and build further with the remaining dataset through unsupervised approach.\n",
    "* 4.3 Appropriate as the dataset is not all labelled.\n",
    "* 4.4 Not appropriate. This is because we have their "
   ]
  }
 ],
 "metadata": {
  "colab": {
   "provenance": []
  },
  "kernelspec": {
   "display_name": "Python 3 (ipykernel)",
   "language": "python",
   "name": "python3"
  },
  "language_info": {
   "codemirror_mode": {
    "name": "ipython",
    "version": 3
   },
   "file_extension": ".py",
   "mimetype": "text/x-python",
   "name": "python",
   "nbconvert_exporter": "python",
   "pygments_lexer": "ipython3",
   "version": "3.11.5"
  }
 },
 "nbformat": 4,
 "nbformat_minor": 1
}
